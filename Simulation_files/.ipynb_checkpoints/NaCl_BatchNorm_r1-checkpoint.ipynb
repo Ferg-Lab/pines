{
 "cells": [
  {
   "cell_type": "code",
   "execution_count": 2,
   "id": "1ee4619a",
   "metadata": {},
   "outputs": [],
   "source": [
    "import numpy as np\n",
    "import pandas as pd\n",
    "import matplotlib.pyplot as plt\n",
    "import plotly.express as px\n",
    "import mdtraj as md"
   ]
  },
  {
   "cell_type": "code",
   "execution_count": 2,
   "id": "786702f4",
   "metadata": {},
   "outputs": [
    {
     "name": "stdout",
     "output_type": "stream",
     "text": [
      "biased-r1.cpt       colvar.out     NaCl_BatchNorm_r1.ipynb\r\n",
      "biased-r1.edr       hills_pc1.out  out.out\r\n",
      "biased-r1.gro       hills_pc2.out  PIV_representation_traj.dat\r\n",
      "biased-r1.log       hills_pc3.out  plumed_parameterized.dat\r\n",
      "biased-r1_prev.cpt  md_30ns.tpr    \u001b[0m\u001b[01;32mrun.sh\u001b[0m*\r\n",
      "biased-r1.xtc       md.pdb         \u001b[01;32msbatch.sbatch\u001b[0m*\r\n"
     ]
    }
   ],
   "source": [
    "ls"
   ]
  },
  {
   "cell_type": "code",
   "execution_count": 18,
   "id": "3eeecdc0",
   "metadata": {},
   "outputs": [],
   "source": [
    "colvar = pd.read_csv(\"colvar.out\", sep=\" \")"
   ]
  },
  {
   "cell_type": "code",
   "execution_count": 26,
   "id": "c959956a",
   "metadata": {},
   "outputs": [
    {
     "data": {
      "text/html": [
       "<div>\n",
       "<style scoped>\n",
       "    .dataframe tbody tr th:only-of-type {\n",
       "        vertical-align: middle;\n",
       "    }\n",
       "\n",
       "    .dataframe tbody tr th {\n",
       "        vertical-align: top;\n",
       "    }\n",
       "\n",
       "    .dataframe thead th {\n",
       "        text-align: right;\n",
       "    }\n",
       "</style>\n",
       "<table border=\"1\" class=\"dataframe\">\n",
       "  <thead>\n",
       "    <tr style=\"text-align: right;\">\n",
       "      <th></th>\n",
       "      <th>#!</th>\n",
       "      <th>FIELDS</th>\n",
       "      <th>time</th>\n",
       "      <th>ann.node-0</th>\n",
       "      <th>ann.node-1</th>\n",
       "      <th>ann.node-2</th>\n",
       "      <th>pb.bias</th>\n",
       "    </tr>\n",
       "  </thead>\n",
       "  <tbody>\n",
       "    <tr>\n",
       "      <th>0</th>\n",
       "      <td>NaN</td>\n",
       "      <td>0.000</td>\n",
       "      <td>1.222928</td>\n",
       "      <td>1.963754</td>\n",
       "      <td>0.025291</td>\n",
       "      <td>0.000000</td>\n",
       "      <td>NaN</td>\n",
       "    </tr>\n",
       "    <tr>\n",
       "      <th>1</th>\n",
       "      <td>NaN</td>\n",
       "      <td>0.002</td>\n",
       "      <td>1.221918</td>\n",
       "      <td>1.964006</td>\n",
       "      <td>0.025348</td>\n",
       "      <td>0.000000</td>\n",
       "      <td>NaN</td>\n",
       "    </tr>\n",
       "    <tr>\n",
       "      <th>2</th>\n",
       "      <td>NaN</td>\n",
       "      <td>0.004</td>\n",
       "      <td>1.220954</td>\n",
       "      <td>1.964242</td>\n",
       "      <td>0.025471</td>\n",
       "      <td>0.000000</td>\n",
       "      <td>NaN</td>\n",
       "    </tr>\n",
       "    <tr>\n",
       "      <th>3</th>\n",
       "      <td>NaN</td>\n",
       "      <td>0.006</td>\n",
       "      <td>1.220169</td>\n",
       "      <td>1.964447</td>\n",
       "      <td>0.025642</td>\n",
       "      <td>0.000000</td>\n",
       "      <td>NaN</td>\n",
       "    </tr>\n",
       "    <tr>\n",
       "      <th>4</th>\n",
       "      <td>NaN</td>\n",
       "      <td>0.008</td>\n",
       "      <td>1.219559</td>\n",
       "      <td>1.964627</td>\n",
       "      <td>0.025863</td>\n",
       "      <td>0.000000</td>\n",
       "      <td>NaN</td>\n",
       "    </tr>\n",
       "    <tr>\n",
       "      <th>...</th>\n",
       "      <td>...</td>\n",
       "      <td>...</td>\n",
       "      <td>...</td>\n",
       "      <td>...</td>\n",
       "      <td>...</td>\n",
       "      <td>...</td>\n",
       "      <td>...</td>\n",
       "    </tr>\n",
       "    <tr>\n",
       "      <th>14999996</th>\n",
       "      <td>NaN</td>\n",
       "      <td>29999.992</td>\n",
       "      <td>-1.179579</td>\n",
       "      <td>-1.444457</td>\n",
       "      <td>1.209328</td>\n",
       "      <td>128.545427</td>\n",
       "      <td>NaN</td>\n",
       "    </tr>\n",
       "    <tr>\n",
       "      <th>14999997</th>\n",
       "      <td>NaN</td>\n",
       "      <td>29999.994</td>\n",
       "      <td>-1.161872</td>\n",
       "      <td>-1.405919</td>\n",
       "      <td>1.227462</td>\n",
       "      <td>128.567236</td>\n",
       "      <td>NaN</td>\n",
       "    </tr>\n",
       "    <tr>\n",
       "      <th>14999998</th>\n",
       "      <td>NaN</td>\n",
       "      <td>29999.996</td>\n",
       "      <td>-1.123876</td>\n",
       "      <td>-1.384759</td>\n",
       "      <td>1.246826</td>\n",
       "      <td>128.586901</td>\n",
       "      <td>NaN</td>\n",
       "    </tr>\n",
       "    <tr>\n",
       "      <th>14999999</th>\n",
       "      <td>NaN</td>\n",
       "      <td>29999.998</td>\n",
       "      <td>-1.090025</td>\n",
       "      <td>-1.345745</td>\n",
       "      <td>1.278793</td>\n",
       "      <td>128.628839</td>\n",
       "      <td>NaN</td>\n",
       "    </tr>\n",
       "    <tr>\n",
       "      <th>15000000</th>\n",
       "      <td>NaN</td>\n",
       "      <td>30000.000</td>\n",
       "      <td>-1.067092</td>\n",
       "      <td>-1.276470</td>\n",
       "      <td>1.318933</td>\n",
       "      <td>128.868170</td>\n",
       "      <td>NaN</td>\n",
       "    </tr>\n",
       "  </tbody>\n",
       "</table>\n",
       "<p>15000001 rows × 7 columns</p>\n",
       "</div>"
      ],
      "text/plain": [
       "          #!     FIELDS      time  ann.node-0  ann.node-1  ann.node-2  pb.bias\n",
       "0        NaN      0.000  1.222928    1.963754    0.025291    0.000000      NaN\n",
       "1        NaN      0.002  1.221918    1.964006    0.025348    0.000000      NaN\n",
       "2        NaN      0.004  1.220954    1.964242    0.025471    0.000000      NaN\n",
       "3        NaN      0.006  1.220169    1.964447    0.025642    0.000000      NaN\n",
       "4        NaN      0.008  1.219559    1.964627    0.025863    0.000000      NaN\n",
       "...       ..        ...       ...         ...         ...         ...      ...\n",
       "14999996 NaN  29999.992 -1.179579   -1.444457    1.209328  128.545427      NaN\n",
       "14999997 NaN  29999.994 -1.161872   -1.405919    1.227462  128.567236      NaN\n",
       "14999998 NaN  29999.996 -1.123876   -1.384759    1.246826  128.586901      NaN\n",
       "14999999 NaN  29999.998 -1.090025   -1.345745    1.278793  128.628839      NaN\n",
       "15000000 NaN  30000.000 -1.067092   -1.276470    1.318933  128.868170      NaN\n",
       "\n",
       "[15000001 rows x 7 columns]"
      ]
     },
     "execution_count": 26,
     "metadata": {},
     "output_type": "execute_result"
    }
   ],
   "source": [
    "colvar"
   ]
  },
  {
   "cell_type": "code",
   "execution_count": 27,
   "id": "082f99db",
   "metadata": {},
   "outputs": [
    {
     "data": {
      "text/plain": [
       "(array([ 30007.,  72792.,  33973.,  29002.,  40367.,  60599.,  75106.,\n",
       "         79417.,  81771.,  86303.,  92921.,  98933., 105010., 110133.,\n",
       "        114137., 115551., 117592., 120087., 125999., 131647., 137293.,\n",
       "        141133., 141129., 141144., 144694., 149974., 152622., 154792.,\n",
       "        156225., 157910., 161391., 165306., 168616., 171077., 173909.,\n",
       "        176814., 181673., 185290., 188364., 190891., 192482., 196887.,\n",
       "        201794., 207849., 214041., 221529., 228233., 234093., 241987.,\n",
       "        243721., 243194., 240681., 239565., 242275., 244717., 243524.,\n",
       "        240930., 240369., 242477., 243721., 245160., 243174., 241530.,\n",
       "        240939., 235382., 227379., 218018., 207862., 198758., 188113.,\n",
       "        179251., 170643., 162548., 158286., 152877., 149035., 145529.,\n",
       "        141109., 135994., 130679., 126773., 123340., 119566., 116976.,\n",
       "        113248., 110024., 106863., 102827.,  94460.,  86852.,  80891.,\n",
       "         76623.,  71806.,  66800.,  55256.,  36768.,  27640.,  35165.,\n",
       "         77100.,  33094.]),\n",
       " array([-2.177707  , -2.13437071, -2.09103442, -2.04769813, -2.00436184,\n",
       "        -1.96102555, -1.91768926, -1.87435297, -1.83101668, -1.78768039,\n",
       "        -1.7443441 , -1.70100781, -1.65767152, -1.61433523, -1.57099894,\n",
       "        -1.52766265, -1.48432636, -1.44099007, -1.39765378, -1.35431749,\n",
       "        -1.3109812 , -1.26764491, -1.22430862, -1.18097233, -1.13763604,\n",
       "        -1.09429975, -1.05096346, -1.00762717, -0.96429088, -0.92095459,\n",
       "        -0.8776183 , -0.83428201, -0.79094572, -0.74760943, -0.70427314,\n",
       "        -0.66093685, -0.61760056, -0.57426427, -0.53092798, -0.48759169,\n",
       "        -0.4442554 , -0.40091911, -0.35758282, -0.31424653, -0.27091024,\n",
       "        -0.22757395, -0.18423766, -0.14090137, -0.09756508, -0.05422879,\n",
       "        -0.0108925 ,  0.03244379,  0.07578008,  0.11911637,  0.16245266,\n",
       "         0.20578895,  0.24912524,  0.29246153,  0.33579782,  0.37913411,\n",
       "         0.4224704 ,  0.46580669,  0.50914298,  0.55247927,  0.59581556,\n",
       "         0.63915185,  0.68248814,  0.72582443,  0.76916072,  0.81249701,\n",
       "         0.8558333 ,  0.89916959,  0.94250588,  0.98584217,  1.02917846,\n",
       "         1.07251475,  1.11585104,  1.15918733,  1.20252362,  1.24585991,\n",
       "         1.2891962 ,  1.33253249,  1.37586878,  1.41920507,  1.46254136,\n",
       "         1.50587765,  1.54921394,  1.59255023,  1.63588652,  1.67922281,\n",
       "         1.7225591 ,  1.76589539,  1.80923168,  1.85256797,  1.89590426,\n",
       "         1.93924055,  1.98257684,  2.02591313,  2.06924942,  2.11258571,\n",
       "         2.155922  ]),\n",
       " <BarContainer object of 100 artists>)"
      ]
     },
     "execution_count": 27,
     "metadata": {},
     "output_type": "execute_result"
    },
    {
     "data": {
      "image/png": "[encoded data removed]",
      "text/plain": [
       "<Figure size 432x288 with 1 Axes>"
      ]
     },
     "metadata": {
      "needs_background": "light"
     },
     "output_type": "display_data"
    }
   ],
   "source": [
    "plt.hist(colvar[\"time\"], bins=100)"
   ]
  },
  {
   "cell_type": "code",
   "execution_count": 40,
   "id": "75990576",
   "metadata": {},
   "outputs": [],
   "source": [
    "hills1 = pd.read_csv('hills_pc1.out', names=[\"time\", \"pc1\", \"sigma\", \"height\", \"biasfactor\"], comment=\"#\", delim_whitespace=True)\n",
    "hills2 = pd.read_csv('hills_pc2.out', names=[\"time\", \"pc1\", \"sigma\", \"height\", \"biasfactor\"], comment=\"#\", delim_whitespace=True)\n",
    "hills3 = pd.read_csv('hills_pc3.out', names=[\"time\", \"pc1\", \"sigma\", \"height\", \"biasfactor\"], comment=\"#\", delim_whitespace=True)\n"
   ]
  },
  {
   "cell_type": "code",
   "execution_count": 38,
   "id": "34eb5633",
   "metadata": {},
   "outputs": [
    {
     "data": {
      "text/html": [
       "<div>\n",
       "<style scoped>\n",
       "    .dataframe tbody tr th:only-of-type {\n",
       "        vertical-align: middle;\n",
       "    }\n",
       "\n",
       "    .dataframe tbody tr th {\n",
       "        vertical-align: top;\n",
       "    }\n",
       "\n",
       "    .dataframe thead th {\n",
       "        text-align: right;\n",
       "    }\n",
       "</style>\n",
       "<table border=\"1\" class=\"dataframe\">\n",
       "  <thead>\n",
       "    <tr style=\"text-align: right;\">\n",
       "      <th></th>\n",
       "      <th>time</th>\n",
       "      <th>pc1</th>\n",
       "      <th>sigma</th>\n",
       "      <th>height</th>\n",
       "      <th>biasfactor</th>\n",
       "    </tr>\n",
       "  </thead>\n",
       "  <tbody>\n",
       "    <tr>\n",
       "      <th>0</th>\n",
       "      <td>1</td>\n",
       "      <td>0.849706</td>\n",
       "      <td>0.1</td>\n",
       "      <td>0.421053</td>\n",
       "      <td>20</td>\n",
       "    </tr>\n",
       "    <tr>\n",
       "      <th>1</th>\n",
       "      <td>2</td>\n",
       "      <td>-0.830439</td>\n",
       "      <td>0.1</td>\n",
       "      <td>0.421053</td>\n",
       "      <td>20</td>\n",
       "    </tr>\n",
       "    <tr>\n",
       "      <th>2</th>\n",
       "      <td>3</td>\n",
       "      <td>0.113864</td>\n",
       "      <td>0.1</td>\n",
       "      <td>0.442619</td>\n",
       "      <td>20</td>\n",
       "    </tr>\n",
       "    <tr>\n",
       "      <th>3</th>\n",
       "      <td>4</td>\n",
       "      <td>1.097708</td>\n",
       "      <td>0.1</td>\n",
       "      <td>0.424748</td>\n",
       "      <td>20</td>\n",
       "    </tr>\n",
       "    <tr>\n",
       "      <th>4</th>\n",
       "      <td>5</td>\n",
       "      <td>-0.033161</td>\n",
       "      <td>0.1</td>\n",
       "      <td>0.406659</td>\n",
       "      <td>20</td>\n",
       "    </tr>\n",
       "    <tr>\n",
       "      <th>...</th>\n",
       "      <td>...</td>\n",
       "      <td>...</td>\n",
       "      <td>...</td>\n",
       "      <td>...</td>\n",
       "      <td>...</td>\n",
       "    </tr>\n",
       "    <tr>\n",
       "      <th>29995</th>\n",
       "      <td>29996</td>\n",
       "      <td>0.275351</td>\n",
       "      <td>0.1</td>\n",
       "      <td>0.024186</td>\n",
       "      <td>20</td>\n",
       "    </tr>\n",
       "    <tr>\n",
       "      <th>29996</th>\n",
       "      <td>29997</td>\n",
       "      <td>-0.113844</td>\n",
       "      <td>0.1</td>\n",
       "      <td>0.015468</td>\n",
       "      <td>20</td>\n",
       "    </tr>\n",
       "    <tr>\n",
       "      <th>29997</th>\n",
       "      <td>29998</td>\n",
       "      <td>0.137389</td>\n",
       "      <td>0.1</td>\n",
       "      <td>0.030130</td>\n",
       "      <td>20</td>\n",
       "    </tr>\n",
       "    <tr>\n",
       "      <th>29998</th>\n",
       "      <td>29999</td>\n",
       "      <td>1.339166</td>\n",
       "      <td>0.1</td>\n",
       "      <td>0.037968</td>\n",
       "      <td>20</td>\n",
       "    </tr>\n",
       "    <tr>\n",
       "      <th>29999</th>\n",
       "      <td>30000</td>\n",
       "      <td>-1.067092</td>\n",
       "      <td>0.1</td>\n",
       "      <td>0.018582</td>\n",
       "      <td>20</td>\n",
       "    </tr>\n",
       "  </tbody>\n",
       "</table>\n",
       "<p>30000 rows × 5 columns</p>\n",
       "</div>"
      ],
      "text/plain": [
       "        time       pc1  sigma    height  biasfactor\n",
       "0          1  0.849706    0.1  0.421053          20\n",
       "1          2 -0.830439    0.1  0.421053          20\n",
       "2          3  0.113864    0.1  0.442619          20\n",
       "3          4  1.097708    0.1  0.424748          20\n",
       "4          5 -0.033161    0.1  0.406659          20\n",
       "...      ...       ...    ...       ...         ...\n",
       "29995  29996  0.275351    0.1  0.024186          20\n",
       "29996  29997 -0.113844    0.1  0.015468          20\n",
       "29997  29998  0.137389    0.1  0.030130          20\n",
       "29998  29999  1.339166    0.1  0.037968          20\n",
       "29999  30000 -1.067092    0.1  0.018582          20\n",
       "\n",
       "[30000 rows x 5 columns]"
      ]
     },
     "execution_count": 38,
     "metadata": {},
     "output_type": "execute_result"
    }
   ],
   "source": [
    "hills1"
   ]
  },
  {
   "cell_type": "code",
   "execution_count": 39,
   "id": "b7d17c1d",
   "metadata": {},
   "outputs": [
    {
     "name": "stdout",
     "output_type": "stream",
     "text": [
      "0.07925702584494584\n",
      "0.12631578947368421\n",
      "0.06315789473684211\n"
     ]
    },
    {
     "data": {
      "image/png": "[encoded data removed]",
      "text/plain": [
       "<Figure size 432x288 with 1 Axes>"
      ]
     },
     "metadata": {
      "needs_background": "light"
     },
     "output_type": "display_data"
    }
   ],
   "source": [
    "plt.plot(hills1.time/1000, hills1.height)\n",
    "plt.axhline(y=(hills1.height).mean(), color='green', linestyle='-')\n",
    "plt.axhline(y=(20/19)*1.2*0.1, color='black', linestyle='-')\n",
    "plt.axhline(y=(20/19)*1.2*0.05, color='red', linestyle='-')\n",
    "plt.xlabel(\"Simulation Time (ns)\")\n",
    "plt.ylabel(\"Deposited Gaussian Heights (kJ/mol)\")\n",
    "plt.title(\"PC1 Gaussians deposited over time\")\n",
    "print(np.mean(hills1.height))\n",
    "print((20/19)*1.2*0.1)\n",
    "print((20/19)*1.2*0.05)\n",
    "#plt.plot(r1_pc2.time/1000, r1_pc2.pc1)\n",
    "#plt.axhline(y=1.2*0.05, color='black', linestyle='-')\n",
    "#plt.xlabel(\"Simulation Time (ns)\")\n",
    "#plt.ylabel(\"PC1\")\n",
    "#plt.title(\"PC1 over time\")\n",
    "#plt.hist(r1_pc1.pc1, bins=100)"
   ]
  },
  {
   "cell_type": "code",
   "execution_count": 41,
   "id": "68a2a64a",
   "metadata": {},
   "outputs": [
    {
     "name": "stdout",
     "output_type": "stream",
     "text": [
      "0.08613131228215681\n",
      "0.12631578947368421\n",
      "0.06315789473684211\n"
     ]
    },
    {
     "data": {
      "image/png": "[encoded data removed]",
      "text/plain": [
       "<Figure size 432x288 with 1 Axes>"
      ]
     },
     "metadata": {
      "needs_background": "light"
     },
     "output_type": "display_data"
    }
   ],
   "source": [
    "plt.plot(hills2.time/1000, hills2.height)\n",
    "plt.axhline(y=(hills2.height).mean(), color='green', linestyle='-')\n",
    "plt.axhline(y=(20/19)*1.2*0.1, color='black', linestyle='-')\n",
    "plt.axhline(y=(20/19)*1.2*0.05, color='red', linestyle='-')\n",
    "plt.xlabel(\"Simulation Time (ns)\")\n",
    "plt.ylabel(\"Deposited Gaussian Heights (kJ/mol)\")\n",
    "plt.title(\"PC1 Gaussians deposited over time\")\n",
    "print(np.mean(hills2.height))\n",
    "print((20/19)*1.2*0.1)\n",
    "print((20/19)*1.2*0.05)\n",
    "#plt.plot(r1_pc2.time/1000, r1_pc2.pc1)\n",
    "#plt.axhline(y=1.2*0.05, color='black', linestyle='-')\n",
    "#plt.xlabel(\"Simulation Time (ns)\")\n",
    "#plt.ylabel(\"PC1\")\n",
    "#plt.title(\"PC1 over time\")\n",
    "#plt.hist(r1_pc1.pc1, bins=100)"
   ]
  },
  {
   "cell_type": "code",
   "execution_count": 42,
   "id": "fcfd7a8a",
   "metadata": {},
   "outputs": [
    {
     "name": "stdout",
     "output_type": "stream",
     "text": [
      "0.08126068557617484\n",
      "0.12631578947368421\n",
      "0.06315789473684211\n"
     ]
    },
    {
     "data": {
      "image/png": "[encoded data removed]",
      "text/plain": [
       "<Figure size 432x288 with 1 Axes>"
      ]
     },
     "metadata": {
      "needs_background": "light"
     },
     "output_type": "display_data"
    }
   ],
   "source": [
    "plt.plot(hills3.time/1000, hills3.height)\n",
    "plt.axhline(y=(hills3.height).mean(), color='green', linestyle='-')\n",
    "plt.axhline(y=(20/19)*1.2*0.1, color='black', linestyle='-')\n",
    "plt.axhline(y=(20/19)*1.2*0.05, color='red', linestyle='-')\n",
    "plt.xlabel(\"Simulation Time (ns)\")\n",
    "plt.ylabel(\"Deposited Gaussian Heights (kJ/mol)\")\n",
    "plt.title(\"PC1 Gaussians deposited over time\")\n",
    "print(np.mean(hills3.height))\n",
    "print((20/19)*1.2*0.1)\n",
    "print((20/19)*1.2*0.05)\n",
    "#plt.plot(r1_pc2.time/1000, r1_pc2.pc1)\n",
    "#plt.axhline(y=1.2*0.05, color='black', linestyle='-')\n",
    "#plt.xlabel(\"Simulation Time (ns)\")\n",
    "#plt.ylabel(\"PC1\")\n",
    "#plt.title(\"PC1 over time\")\n",
    "#plt.hist(r1_pc1.pc1, bins=100)"
   ]
  },
  {
   "cell_type": "code",
   "execution_count": 43,
   "id": "7d3929c0",
   "metadata": {},
   "outputs": [
    {
     "data": {
      "text/plain": [
       "[<matplotlib.lines.Line2D at 0x7f841fc089d0>]"
      ]
     },
     "execution_count": 43,
     "metadata": {},
     "output_type": "execute_result"
    },
    {
     "data": {
      "image/png": "[encoded data removed]",
      "text/plain": [
       "<Figure size 432x288 with 1 Axes>"
      ]
     },
     "metadata": {
      "needs_background": "light"
     },
     "output_type": "display_data"
    }
   ],
   "source": [
    "plt.plot(hills1.time/1000, hills1.pc1)"
   ]
  },
  {
   "cell_type": "code",
   "execution_count": 44,
   "id": "f9a09455",
   "metadata": {},
   "outputs": [
    {
     "data": {
      "text/plain": [
       "[<matplotlib.lines.Line2D at 0x7f841f477550>]"
      ]
     },
     "execution_count": 44,
     "metadata": {},
     "output_type": "execute_result"
    },
    {
     "data": {
      "image/png": "[encoded data removed]",
      "text/plain": [
       "<Figure size 432x288 with 1 Axes>"
      ]
     },
     "metadata": {
      "needs_background": "light"
     },
     "output_type": "display_data"
    }
   ],
   "source": [
    "plt.plot(hills2.time/1000, hills2.pc1)"
   ]
  },
  {
   "cell_type": "code",
   "execution_count": 45,
   "id": "53f28013",
   "metadata": {},
   "outputs": [
    {
     "data": {
      "text/plain": [
       "[<matplotlib.lines.Line2D at 0x7f841f4175d0>]"
      ]
     },
     "execution_count": 45,
     "metadata": {},
     "output_type": "execute_result"
    },
    {
     "data": {
      "image/png": "[encoded data removed]",
      "text/plain": [
       "<Figure size 432x288 with 1 Axes>"
      ]
     },
     "metadata": {
      "needs_background": "light"
     },
     "output_type": "display_data"
    }
   ],
   "source": [
    "plt.plot(hills3.time/1000, hills3.pc1)"
   ]
  },
  {
   "cell_type": "code",
   "execution_count": 4,
   "id": "e44eba45",
   "metadata": {},
   "outputs": [],
   "source": [
    "piv_trj = pd.read_csv(\"PIV_representation_traj.dat\", delim_whitespace=\"tab\", header=None, chunksize=1000000)"
   ]
  },
  {
   "cell_type": "code",
   "execution_count": 5,
   "id": "db4220b5",
   "metadata": {},
   "outputs": [
    {
     "data": {
      "text/plain": [
       "<pandas.io.parsers.readers.TextFileReader at 0x7f48f28fd810>"
      ]
     },
     "execution_count": 5,
     "metadata": {},
     "output_type": "execute_result"
    }
   ],
   "source": [
    "piv_trj"
   ]
  },
  {
   "cell_type": "code",
   "execution_count": 6,
   "id": "f27dd4b5",
   "metadata": {},
   "outputs": [],
   "source": [
    "df = pd.concat(piv_trj, ignore_index=True)"
   ]
  },
  {
   "cell_type": "code",
   "execution_count": 16,
   "id": "a2953ee1",
   "metadata": {},
   "outputs": [
    {
     "data": {
      "text/plain": [
       "(15000001, 61)"
      ]
     },
     "execution_count": 16,
     "metadata": {},
     "output_type": "execute_result"
    }
   ],
   "source": [
    "np.shape(df)"
   ]
  },
  {
   "cell_type": "code",
   "execution_count": 15,
   "id": "765b93b8",
   "metadata": {},
   "outputs": [
    {
     "data": {
      "text/plain": [
       "(array([8.865030e+05, 1.110499e+06, 9.383330e+05, ..., 0.000000e+00,\n",
       "        0.000000e+00, 1.000000e+00]),\n",
       " array([1.00000000e-04, 1.94549500e-04, 2.89099000e-04, ...,\n",
       "        9.45405901e-01, 9.45500450e-01, 9.45595000e-01]),\n",
       " <BarContainer object of 10000 artists>)"
      ]
     },
     "execution_count": 15,
     "metadata": {},
     "output_type": "execute_result"
    },
    {
     "data": {
      "image/png": "[encoded data removed]",
      "text/plain": [
       "<Figure size 432x288 with 1 Axes>"
      ]
     },
     "metadata": {
      "needs_background": "light"
     },
     "output_type": "display_data"
    }
   ],
   "source": [
    "plt.hist(df[0], bins=10000)"
   ]
  },
  {
   "cell_type": "code",
   "execution_count": null,
   "id": "168947ba",
   "metadata": {},
   "outputs": [],
   "source": []
  }
 ],
 "metadata": {
  "kernelspec": {
   "display_name": "Python 3 (ipykernel)",
   "language": "python",
   "name": "python3"
  },
  "language_info": {
   "codemirror_mode": {
    "name": "ipython",
    "version": 3
   },
   "file_extension": ".py",
   "mimetype": "text/x-python",
   "name": "python",
   "nbconvert_exporter": "python",
   "pygments_lexer": "ipython3",
   "version": "3.7.12"
  }
 },
 "nbformat": 4,
 "nbformat_minor": 5
}
